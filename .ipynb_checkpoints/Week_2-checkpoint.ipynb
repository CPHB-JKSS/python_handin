{
 "cells": [
  {
   "cell_type": "markdown",
   "metadata": {},
   "source": [
    "# Week 2 handin"
   ]
  },
  {
   "cell_type": "markdown",
   "metadata": {},
   "source": [
    "## Exercise 1\n",
    "1. Create a python file with 3 functions:\n",
    "  1. `def print_file_content(file)` that can print content of a csv file to the console\n",
    "  2. `def write_list_to_file(output_file, lst)` that can take a list of tuple and write each element to a new line in file\n",
    "    1. rewrite the function so that it gets an arbitrary number of strings instead of a list\n",
    "  3. `def read_csv(input_file)` that take a csv file and read each row into a list\n",
    "2. Add a functionality so that the file can be called from cli with 2 arguments\n",
    "  1. path to csv file\n",
    "  2. an argument `--file file_name` that if given will write the content to file_name or otherwise will print it to the console.\n",
    "3. Add a --help cli argument to describe how the module is used  \n",
    "\n",
    "## Exercise 2\n",
    "Create a module called utils.py with the following 5 functions:\n",
    "\n",
    "```python\n",
    "def get_file_names(folderpath,out=output.txt):\n",
    "    \"\"\" takes a path to a folder and writes all filenames in the folder to a specified output file\"\"\"\n",
    "\n",
    "def get_all_file_names(folderpath,out=output.txt):\n",
    "    \"\"\"takes a path to a folder and write all filenames recursively (files of all sub folders to)\"\"\"\n",
    "\n",
    "def print_line_one(file_names):\n",
    "    \"\"\"takes a list of filenames and print the first line of each\"\"\"\n",
    "\n",
    "def print_emails(file_names):\n",
    "    \"\"\"takes a list of filenames and print each line that contains an email (just look for @)\"\"\"\n",
    "\n",
    "def write_headlines(md_files, out=output.txt):\n",
    "    \"\"\"takes a list of md files and writes all headlines (lines starting with #) to a file\"\"\"\n",
    "\n",
    "```\n",
    "Make sure your module can be called both from cli and imported to another module\n",
    "Create a new module that imports utils.py and test each function."
   ]
  },
  {
   "cell_type": "markdown",
   "metadata": {},
   "source": [
    "## Status\n",
    "All exercises were completed except Ex. 1.2 and 1.3 - As I'm quite unsure about CLI.\n",
    "\n",
    "Furthermore the recursive exercise(2.B) does not function properly with the currently implemented logic using os.listdir(). \n",
    "A working solution using os.walk() is in the code, but this implementation is not recursive in the sense of recursively calling \"get_all_file_names\" to look through all folders and files."
   ]
  },
  {
   "cell_type": "markdown",
   "metadata": {},
   "source": [
    "## Exercise 1"
   ]
  },
  {
   "cell_type": "code",
   "execution_count": 170,
   "metadata": {},
   "outputs": [
    {
     "name": "stdout",
     "output_type": "stream",
     "text": [
      "3.1415926535\n",
      "  8979323846\n",
      "  2643383279\n",
      "\n"
     ]
    }
   ],
   "source": [
    "# 1.A\n",
    "from modules import webget\n",
    "from modules import week2Exercise1\n",
    "\n",
    "# Download the file in case we do not have it already\n",
    "url = 'https://raw.githubusercontent.com/ehmatthes/pcc/master/chapter_10/pi_30_digits.txt'\n",
    "destination = 'files/pi_30_digits.txt'\n",
    "webget.download(url, to=destination)\n",
    "\n",
    "week2Exercise1.print_file_content(file='files/pi_30_digits.txt')"
   ]
  },
  {
   "cell_type": "code",
   "execution_count": 25,
   "metadata": {},
   "outputs": [
    {
     "name": "stdout",
     "output_type": "stream",
     "text": [
      "list_to_file.txt:\n",
      "hej\n",
      ",\n",
      "med\n",
      ",\n",
      "dig\n",
      ",\n",
      "\n",
      "strings_to_file.txt:\n",
      "du\n",
      "er\n",
      "en\n",
      "stjerne\n",
      "\n"
     ]
    }
   ],
   "source": [
    "# 1.B\n",
    "from modules import week2Exercise1\n",
    "\n",
    "lst=[('hej', ','), ('med', ','), ('dig', ',')]\n",
    "\n",
    "week2Exercise1.write_list_to_file('files/list_to_file.txt', lst)\n",
    "week2Exercise1.write_arb_strings_to_file('files/strings_to_file.txt', 'du', 'er', 'en', 'stjerne')\n",
    "\n",
    "print('list_to_file.txt:')\n",
    "week2Exercise1.print_file_content(file='files/list_to_file.txt')\n",
    "print('strings_to_file.txt:')\n",
    "week2Exercise1.print_file_content(file='files/strings_to_file.txt')"
   ]
  },
  {
   "cell_type": "code",
   "execution_count": 8,
   "metadata": {},
   "outputs": [
    {
     "name": "stdout",
     "output_type": "stream",
     "text": [
      "List:\n",
      "['this,is,my,file,,\\n', 'this,is ,row,2,,\\n', 'while,this,would,be,row,3']\n",
      "\n",
      "Rows:\n",
      "this,is,my,file,,\n",
      "\n",
      "this,is ,row,2,,\n",
      "\n",
      "while,this,would,be,row,3\n"
     ]
    }
   ],
   "source": [
    "# 1.C\n",
    "from modules import week2Exercise1\n",
    "\n",
    "filename='files/my_csv_file.csv'\n",
    "print('List:')\n",
    "print(week2Exercise1.read_csv(filename))\n",
    "print()\n",
    "\n",
    "print('Rows:')\n",
    "for line in week2Exercise1.read_csv(filename):\n",
    "    print(line)"
   ]
  },
  {
   "cell_type": "markdown",
   "metadata": {},
   "source": [
    "## Exercise 2"
   ]
  },
  {
   "cell_type": "code",
   "execution_count": 1,
   "metadata": {},
   "outputs": [
    {
     "name": "stdout",
     "output_type": "stream",
     "text": [
      "another_mark_down.md\n",
      "email_addresses.txt\n",
      "list_to_file.txt\n",
      "my_csv_file.csv\n",
      "my_output_file.txt\n",
      "my_recursive_output_file.txt\n",
      "pi_30_digits.txt\n",
      "README.md\n",
      "strings_to_file.txt\n",
      "\n"
     ]
    }
   ],
   "source": [
    "#2.A\n",
    "from modules import utils\n",
    "from modules import week2Exercise1\n",
    "\n",
    "utils.get_file_names('files', 'files/my_output_file.txt')\n",
    "week2Exercise1.print_file_content(file='files/my_output_file.txt')"
   ]
  },
  {
   "cell_type": "code",
   "execution_count": 12,
   "metadata": {},
   "outputs": [
    {
     "name": "stdout",
     "output_type": "stream",
     "text": [
      ".git\n",
      ".ipynb_checkpoints\n",
      "files\n",
      "modules\n",
      "README.md\n",
      "requirements.txt\n",
      "Week_1.ipynb\n",
      "Week_2.ipynb\n",
      "\n"
     ]
    }
   ],
   "source": [
    "#2.B\n",
    "from modules import utils\n",
    "from modules import week2Exercise1\n",
    "\n",
    "utils.get_all_file_names('.', 'files/my_recursive_output_file.txt')\n",
    "week2Exercise1.print_file_content(file='files/my_recursive_output_file.txt')"
   ]
  },
  {
   "cell_type": "code",
   "execution_count": 9,
   "metadata": {},
   "outputs": [
    {
     "name": "stdout",
     "output_type": "stream",
     "text": [
      "another_mark_down.md\n",
      "\n",
      "3.1415926535\n",
      "\n",
      "du\n",
      "\n"
     ]
    }
   ],
   "source": [
    "#2.C\n",
    "from modules import utils\n",
    "\n",
    "filenames = ['my_output_file.txt', 'pi_30_digits.txt', 'strings_to_file.txt']\n",
    "\n",
    "utils.print_line_one(filenames)"
   ]
  },
  {
   "cell_type": "code",
   "execution_count": 10,
   "metadata": {},
   "outputs": [
    {
     "name": "stdout",
     "output_type": "stream",
     "text": [
      "min_email@hej.dk\n",
      "\n",
      "hvor_er_du@email.dk\n",
      "\n"
     ]
    }
   ],
   "source": [
    "#2.D\n",
    "from modules import utils\n",
    "\n",
    "filenames = ['my_output_file.txt', 'pi_30_digits.txt', 'email_addresses.txt']\n",
    "\n",
    "utils.print_emails(filenames)"
   ]
  },
  {
   "cell_type": "code",
   "execution_count": 1,
   "metadata": {},
   "outputs": [
    {
     "name": "stdout",
     "output_type": "stream",
     "text": [
      "# python Handin Template\n",
      "# some headline\n",
      "# another headline\n",
      "# a third headline\n",
      "# another headline\n",
      "\n"
     ]
    }
   ],
   "source": [
    "#2.E\n",
    "from modules import utils\n",
    "from modules import week2Exercise1\n",
    "\n",
    "filenames = ['README.md', 'another_mark_down.md']\n",
    "\n",
    "utils.write_headlines(filenames, 'files/headlines.txt')\n",
    "week2Exercise1.print_file_content(file='files/headlines.txt')"
   ]
  }
 ],
 "metadata": {
  "kernelspec": {
   "display_name": "Python 3",
   "language": "python",
   "name": "python3"
  },
  "language_info": {
   "codemirror_mode": {
    "name": "ipython",
    "version": 3
   },
   "file_extension": ".py",
   "mimetype": "text/x-python",
   "name": "python",
   "nbconvert_exporter": "python",
   "pygments_lexer": "ipython3",
   "version": "3.7.6"
  }
 },
 "nbformat": 4,
 "nbformat_minor": 4
}
