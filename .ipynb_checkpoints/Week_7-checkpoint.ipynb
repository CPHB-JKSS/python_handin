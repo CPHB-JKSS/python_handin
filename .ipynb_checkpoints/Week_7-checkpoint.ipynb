{
 "cells": [
  {
   "cell_type": "markdown",
   "metadata": {},
   "source": [
    "# Week 7 handin"
   ]
  },
  {
   "cell_type": "markdown",
   "metadata": {},
   "source": [
    "https://github.com/Josefsendavid/Week7Python/blob/main/README.md\n",
    "\n",
    "# Week7Python\n",
    "\n",
    "## Exercise 1\n",
    "1. Åbn 'https://www.dba.dk/biler/'.\n",
    "2. Find ind alle biler med mærker: 'Peugeot', 'Volvo' og gem dem.\n",
    "\n",
    "## Exercise 2\n",
    "1. Brug Regular Expressions til at sortere de fundne biler på år 2005.\n",
    "\n",
    "## Exercise 3\n",
    "1. Brug Selenium til at tilgå de samme punkter som i forrige opgaver, og vælge den dyreste bil.\n",
    "2. Brug BeautifulSoup til at printe bilbeskrivelsen ud."
   ]
  },
  {
   "cell_type": "markdown",
   "metadata": {},
   "source": [
    "## Status\n",
    "\n",
    "INGEN"
   ]
  },
  {
   "cell_type": "markdown",
   "metadata": {},
   "source": [
    "## Exercise 1"
   ]
  },
  {
   "cell_type": "code",
   "execution_count": null,
   "metadata": {},
   "outputs": [],
   "source": [
    "from selenium import webdriver\n",
    "\n",
    "browser = webdriver.Firefox()\n",
    "\n",
    "browser.get('https://www.dba.dk/biler/')\n",
    "elem = browser.find_element_by_link_text('Forside')\n",
    "\n",
    "print(elem.text)\n"
   ]
  }
 ],
 "metadata": {
  "kernelspec": {
   "display_name": "Python 3",
   "language": "python",
   "name": "python3"
  },
  "language_info": {
   "codemirror_mode": {
    "name": "ipython",
    "version": 3
   },
   "file_extension": ".py",
   "mimetype": "text/x-python",
   "name": "python",
   "nbconvert_exporter": "python",
   "pygments_lexer": "ipython3",
   "version": "3.7.6"
  }
 },
 "nbformat": 4,
 "nbformat_minor": 4
}
