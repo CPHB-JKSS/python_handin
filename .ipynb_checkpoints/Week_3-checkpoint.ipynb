{
 "cells": [
  {
   "cell_type": "markdown",
   "metadata": {},
   "source": [
    "# Week 3 handin"
   ]
  },
  {
   "cell_type": "markdown",
   "metadata": {},
   "source": [
    "## Ex 1 Classes\n",
    "1. Create 3 classes: Student, DataSheet and Course\n",
    "2. A student has a data_sheet and a data_sheet has multiple courses in particular order\n",
    "3. Each course has name, classroom, teacher, ETCS and optional grade if course is taken.\n",
    "4. In Student create __init__() so that a Student can be initiated with name, gender, data_sheet and image_url\n",
    "5. In DataSheet create a method to get_grades_as_list()\n",
    "6. In student create a method: get_avg_grade()\n",
    "7. Create a function that can generate n number of students with random: name, gender, courses (from a fixed list of course names), grades, img_url\n",
    "   1. Let the function write the result to a csv file with format stud_name, course_name, teacher, ects, classroom, grade, img_url\n",
    "7. Read student data into a list of Students from a csv file: \n",
    "   1. loop through the list and print each student with name, img_url and avg_grade.\n",
    "   2. sort the list by avg_grade\n",
    "   3. create a bar chart with student_name on x and avg_grade on y-axis\n",
    "8. Make a method on Student class that can show progression of the study in % (add up ECTS from all passed courses divided by total of 150 total points (equivalent to 5 semesters))\n",
    "9. Show a bar chart of distribution of study progression on x-axis and number of students in each category on y-axis. (e.g. make 10 categories from 0-100%)\n",
    "\n",
    "Extra: Make the Datasheet class iterable so that next(data_sheet) will return the next course in the list\n",
    "\n",
    "## Ex 2 Exceptions (extra)\n",
    "1. Create a function that can take a list of students and return the 3 students closest to completing their study.\n",
    "2. If list is shorter than 3 raise your own custom exception (NotEnoughStudentsException)\n",
    "3. Create another function that can create a csv file with 3 students closest to completion\n",
    "   1. If an exception is raised write an appropriate message to the file\n",
    "\n",
    "## Ex 3 Plotting (extra)\n",
    "1. Create a function that can take a list of students and show a pie chart of how students are distributed in ECTS percentage categories (10%, 20%, ...)\n",
    "2. create a function that can take a list of students and show how many students have taken each course (bar chart)\n",
    "   1. create a method on student that can return a list of courses\n",
    "3. make the figure show males and females in different colors for each course (display 2 datasets in same figure)\n"
   ]
  },
  {
   "cell_type": "markdown",
   "metadata": {},
   "source": [
    "## Status\n"
   ]
  },
  {
   "cell_type": "markdown",
   "metadata": {},
   "source": [
    "## Exercise 1"
   ]
  },
  {
   "cell_type": "code",
   "execution_count": 3,
   "metadata": {},
   "outputs": [],
   "source": [
    "# 1.7: Create a function that can generate n number of students\n",
    "from modules import week3Exercise1\n",
    "week3Exercise1.generate_students(5)\n",
    "\n",
    "# 1.8: Read student data into a list of Students from a csv file\n",
    "    #a"
   ]
  },
  {
   "cell_type": "code",
   "execution_count": 25,
   "metadata": {},
   "outputs": [
    {
     "name": "stdout",
     "output_type": "stream",
     "text": [
      "list_to_file.txt:\n",
      "hej\n",
      ",\n",
      "med\n",
      ",\n",
      "dig\n",
      ",\n",
      "\n",
      "strings_to_file.txt:\n",
      "du\n",
      "er\n",
      "en\n",
      "stjerne\n",
      "\n"
     ]
    }
   ],
   "source": [
    "# 1.B\n",
    "from modules import week2Exercise1\n",
    "\n",
    "lst=[('hej', ','), ('med', ','), ('dig', ',')]\n",
    "\n",
    "week2Exercise1.write_list_to_file('files/list_to_file.txt', lst)\n",
    "week2Exercise1.write_arb_strings_to_file('files/strings_to_file.txt', 'du', 'er', 'en', 'stjerne')\n",
    "\n",
    "print('list_to_file.txt:')\n",
    "week2Exercise1.print_file_content(file='files/list_to_file.txt')\n",
    "print('strings_to_file.txt:')\n",
    "week2Exercise1.print_file_content(file='files/strings_to_file.txt')"
   ]
  },
  {
   "cell_type": "code",
   "execution_count": 8,
   "metadata": {},
   "outputs": [
    {
     "name": "stdout",
     "output_type": "stream",
     "text": [
      "List:\n",
      "['this,is,my,file,,\\n', 'this,is ,row,2,,\\n', 'while,this,would,be,row,3']\n",
      "\n",
      "Rows:\n",
      "this,is,my,file,,\n",
      "\n",
      "this,is ,row,2,,\n",
      "\n",
      "while,this,would,be,row,3\n"
     ]
    }
   ],
   "source": [
    "# 1.C\n",
    "from modules import week2Exercise1\n",
    "\n",
    "filename='files/my_csv_file.csv'\n",
    "print('List:')\n",
    "print(week2Exercise1.read_csv(filename))\n",
    "print()\n",
    "\n",
    "print('Rows:')\n",
    "for line in week2Exercise1.read_csv(filename):\n",
    "    print(line)"
   ]
  },
  {
   "cell_type": "markdown",
   "metadata": {},
   "source": [
    "## Exercise 2"
   ]
  },
  {
   "cell_type": "code",
   "execution_count": 1,
   "metadata": {},
   "outputs": [
    {
     "name": "stdout",
     "output_type": "stream",
     "text": [
      "another_mark_down.md\n",
      "email_addresses.txt\n",
      "list_to_file.txt\n",
      "my_csv_file.csv\n",
      "my_output_file.txt\n",
      "my_recursive_output_file.txt\n",
      "pi_30_digits.txt\n",
      "README.md\n",
      "strings_to_file.txt\n",
      "\n"
     ]
    }
   ],
   "source": [
    "#2.A\n",
    "from modules import utils\n",
    "from modules import week2Exercise1\n",
    "\n",
    "utils.get_file_names('files', 'files/my_output_file.txt')\n",
    "week2Exercise1.print_file_content(file='files/my_output_file.txt')"
   ]
  },
  {
   "cell_type": "code",
   "execution_count": 12,
   "metadata": {},
   "outputs": [
    {
     "name": "stdout",
     "output_type": "stream",
     "text": [
      ".git\n",
      ".ipynb_checkpoints\n",
      "files\n",
      "modules\n",
      "README.md\n",
      "requirements.txt\n",
      "Week_1.ipynb\n",
      "Week_2.ipynb\n",
      "\n"
     ]
    }
   ],
   "source": [
    "#2.B\n",
    "from modules import utils\n",
    "from modules import week2Exercise1\n",
    "\n",
    "utils.get_all_file_names('.', 'files/my_recursive_output_file.txt')\n",
    "week2Exercise1.print_file_content(file='files/my_recursive_output_file.txt')"
   ]
  },
  {
   "cell_type": "code",
   "execution_count": 9,
   "metadata": {},
   "outputs": [
    {
     "name": "stdout",
     "output_type": "stream",
     "text": [
      "another_mark_down.md\n",
      "\n",
      "3.1415926535\n",
      "\n",
      "du\n",
      "\n"
     ]
    }
   ],
   "source": [
    "#2.C\n",
    "from modules import utils\n",
    "\n",
    "filenames = ['my_output_file.txt', 'pi_30_digits.txt', 'strings_to_file.txt']\n",
    "\n",
    "utils.print_line_one(filenames)"
   ]
  },
  {
   "cell_type": "code",
   "execution_count": 10,
   "metadata": {},
   "outputs": [
    {
     "name": "stdout",
     "output_type": "stream",
     "text": [
      "min_email@hej.dk\n",
      "\n",
      "hvor_er_du@email.dk\n",
      "\n"
     ]
    }
   ],
   "source": [
    "#2.D\n",
    "from modules import utils\n",
    "\n",
    "filenames = ['my_output_file.txt', 'pi_30_digits.txt', 'email_addresses.txt']\n",
    "\n",
    "utils.print_emails(filenames)"
   ]
  },
  {
   "cell_type": "code",
   "execution_count": 1,
   "metadata": {},
   "outputs": [
    {
     "name": "stdout",
     "output_type": "stream",
     "text": [
      "# python Handin Template\n",
      "# some headline\n",
      "# another headline\n",
      "# a third headline\n",
      "# another headline\n",
      "\n"
     ]
    }
   ],
   "source": [
    "#2.E\n",
    "from modules import utils\n",
    "from modules import week2Exercise1\n",
    "\n",
    "filenames = ['README.md', 'another_mark_down.md']\n",
    "\n",
    "utils.write_headlines(filenames, 'files/headlines.txt')\n",
    "week2Exercise1.print_file_content(file='files/headlines.txt')"
   ]
  }
 ],
 "metadata": {
  "kernelspec": {
   "display_name": "Python 3",
   "language": "python",
   "name": "python3"
  },
  "language_info": {
   "codemirror_mode": {
    "name": "ipython",
    "version": 3
   },
   "file_extension": ".py",
   "mimetype": "text/x-python",
   "name": "python",
   "nbconvert_exporter": "python",
   "pygments_lexer": "ipython3",
   "version": "3.7.6"
  }
 },
 "nbformat": 4,
 "nbformat_minor": 4
}
